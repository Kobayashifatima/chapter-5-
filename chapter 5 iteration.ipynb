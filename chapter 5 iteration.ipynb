{
 "cells": [
  {
   "cell_type": "markdown",
   "id": "2a7ccccd",
   "metadata": {},
   "source": [
    "# chapter 5"
   ]
  },
  {
   "cell_type": "markdown",
   "id": "1cc42dc4",
   "metadata": {},
   "source": [
    "Iteration"
   ]
  },
  {
   "cell_type": "code",
   "execution_count": 1,
   "id": "3eb6a5ac",
   "metadata": {},
   "outputs": [
    {
     "name": "stdout",
     "output_type": "stream",
     "text": [
      "Example 1: Iterating over a list\n",
      "apple\n",
      "banana\n",
      "cherry\n",
      "date\n",
      "\n",
      "Example 2: Iterating a certain number of times using a range\n",
      "Iteration 1\n",
      "Iteration 2\n",
      "Iteration 3\n",
      "Iteration 4\n",
      "Iteration 5\n",
      "\n",
      "Example 3: Iterating with a while loop\n",
      "Count is 0\n",
      "Count is 1\n",
      "Count is 2\n",
      "Count is 3\n",
      "Count is 4\n",
      "\n",
      "Example 4: Iterating over a dictionary\n",
      "Alice: 92\n",
      "Bob: 85\n",
      "Charlie: 78\n",
      "David: 95\n",
      "\n",
      "Example 5: Using list comprehension\n",
      "Original list: [94, 96, 55, 96, 58, 74, 68, 19, 95, 15]\n",
      "Squared list: [8836, 9216, 3025, 9216, 3364, 5476, 4624, 361, 9025, 225]\n"
     ]
    }
   ],
   "source": [
    "# Import necessary libraries\n",
    "import random\n",
    "\n",
    "# Example 1: Using a for loop to iterate over a list\n",
    "fruits = [\"apple\", \"banana\", \"cherry\", \"date\"]\n",
    "print(\"Example 1: Iterating over a list\")\n",
    "for fruit in fruits:\n",
    "    print(fruit)\n",
    "\n",
    "# Example 2: Using a for loop with a range to iterate a certain number of times\n",
    "print(\"\\nExample 2: Iterating a certain number of times using a range\")\n",
    "for i in range(1, 6):\n",
    "    print(f\"Iteration {i}\")\n",
    "\n",
    "# Example 3: Using a while loop to iterate until a condition is met\n",
    "print(\"\\nExample 3: Iterating with a while loop\")\n",
    "count = 0\n",
    "while count < 5:\n",
    "    print(f\"Count is {count}\")\n",
    "    count += 1\n",
    "\n",
    "# Example 4: Using a for loop to iterate over a dictionary\n",
    "print(\"\\nExample 4: Iterating over a dictionary\")\n",
    "student_grades = {\"Alice\": 92, \"Bob\": 85, \"Charlie\": 78, \"David\": 95}\n",
    "for name, grade in student_grades.items():\n",
    "    print(f\"{name}: {grade}\")\n",
    "\n",
    "# Example 5: Using list comprehension to create a new list\n",
    "print(\"\\nExample 5: Using list comprehension\")\n",
    "numbers = [random.randint(1, 100) for _ in range(10)]\n",
    "print(\"Original list:\", numbers)\n",
    "\n",
    "squared_numbers = [x ** 2 for x in numbers]\n",
    "print(\"Squared list:\", squared_numbers)\n"
   ]
  },
  {
   "cell_type": "code",
   "execution_count": null,
   "id": "42974392",
   "metadata": {},
   "outputs": [],
   "source": [
    "# This loop will run until the user enters 'exit'\n",
    "while True:\n",
    "    user_input = input(\"Enter a command (or 'exit' to quit): \")\n",
    "    \n",
    "    if user_input.lower() == 'exit':\n",
    "        print(\"Exiting the loop.\")\n",
    "        break\n",
    "    \n",
    "    print(f\"You entered: {user_input}\")\n"
   ]
  },
  {
   "cell_type": "code",
   "execution_count": null,
   "id": "3cdd54d2",
   "metadata": {},
   "outputs": [],
   "source": [
    "# Iterate through numbers from 1 to 10\n",
    "for i in range(1, 11):\n",
    "    if i == 5:\n",
    "        print(f\"Skipping iteration {i}\")\n",
    "        continue\n",
    "    print(f\"Processing iteration {i}\")\n"
   ]
  },
  {
   "cell_type": "code",
   "execution_count": null,
   "id": "7b8a17c9",
   "metadata": {},
   "outputs": [],
   "source": [
    "# Define a variable to control the loop\n",
    "user_wants_to_continue = True\n",
    "\n",
    "# Indefinite loop\n",
    "while user_wants_to_continue:\n",
    "    user_input = input(\"Do you want to continue? (yes/no): \")\n",
    "    \n",
    "    if user_input.lower() == 'no':\n",
    "        print(\"Exiting the loop.\")\n",
    "        user_wants_to_continue = False  # Set the condition to False to exit the loop\n",
    "    else:\n",
    "        print(\"Continuing the loop.\")\n"
   ]
  },
  {
   "cell_type": "code",
   "execution_count": null,
   "id": "9d39b39b",
   "metadata": {},
   "outputs": [],
   "source": []
  }
 ],
 "metadata": {
  "kernelspec": {
   "display_name": "Python 3 (ipykernel)",
   "language": "python",
   "name": "python3"
  },
  "language_info": {
   "codemirror_mode": {
    "name": "ipython",
    "version": 3
   },
   "file_extension": ".py",
   "mimetype": "text/x-python",
   "name": "python",
   "nbconvert_exporter": "python",
   "pygments_lexer": "ipython3",
   "version": "3.11.4"
  }
 },
 "nbformat": 4,
 "nbformat_minor": 5
}
